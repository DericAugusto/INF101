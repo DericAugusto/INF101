{
  "nbformat": 4,
  "nbformat_minor": 0,
  "metadata": {
    "colab": {
      "name": "2020-2-INF101-Pratica13-esqueleto.ipynb",
      "provenance": [],
      "collapsed_sections": [],
      "toc_visible": true
    },
    "kernelspec": {
      "display_name": "Python 3",
      "name": "python3"
    }
  },
  "cells": [
    {
      "cell_type": "markdown",
      "metadata": {
        "id": "TjcMDLudY7rv"
      },
      "source": [
        "INF101 - Introdução à Programação II  \n",
        "2020/PER-2  \n",
        "**Prática 13 Conjuntos - 2 pontos**  \n",
        "\n",
        "---\n",
        "- Nome: Michel Melo da Silva (michel.m.silva@ufv.br)  \n",
        "- Data: 05/05/2021  \n",
        "- Atualização: 05/05/2021 \n",
        "---"
      ]
    },
    {
      "cell_type": "markdown",
      "metadata": {
        "id": "jhhXSLg5Zyvi"
      },
      "source": [
        "## Descrição do programa:\n",
        "\n",
        "*Insira a descrição aqui*."
      ]
    },
    {
      "cell_type": "markdown",
      "metadata": {
        "id": "FSUHIYXzXPgg"
      },
      "source": [
        "# Baixando os arquivos\n",
        "\n",
        "Você só precisa executar essa célula uma vez."
      ]
    },
    {
      "cell_type": "code",
      "metadata": {
        "id": "n0G3MHGVFJrz",
        "colab": {
          "base_uri": "https://localhost:8080/"
        },
        "outputId": "9a192aa6-8451-4c76-b34b-a555cd37960e"
      },
      "source": [
        "!pip install wget\n",
        "\n",
        "import wget\n",
        "\n",
        "url = 'http://linux-server.lbi.ufv.br/arquivos/roteiros/416/pratica-13-1207.txt'\n",
        "filename = wget.download(url, 'disciplinas.txt')\n",
        "\n",
        "url = 'http://linux-server.lbi.ufv.br/arquivos/roteiros/416/pratica-13-1208.txt'\n",
        "filename = wget.download(url, 'matriculas.txt')\n",
        "\n",
        "url = 'http://linux-server.lbi.ufv.br/arquivos/roteiros/416/pratica-13-1209.txt'\n",
        "filename = wget.download(url, 'disciplinas2.txt')\n",
        "\n",
        "url = 'http://linux-server.lbi.ufv.br/arquivos/roteiros/416/pratica-13-1210.txt'\n",
        "filename = wget.download(url, 'matriculas2.txt')"
      ],
      "execution_count": null,
      "outputs": [
        {
          "output_type": "stream",
          "text": [
            "Collecting wget\n",
            "  Downloading https://files.pythonhosted.org/packages/47/6a/62e288da7bcda82b935ff0c6cfe542970f04e29c756b0e147251b2fb251f/wget-3.2.zip\n",
            "Building wheels for collected packages: wget\n",
            "  Building wheel for wget (setup.py) ... \u001b[?25l\u001b[?25hdone\n",
            "  Created wheel for wget: filename=wget-3.2-cp37-none-any.whl size=9681 sha256=68205ae56142e6ff5fcea2099f77115417f93921f69d0e1cd1659de22c513b0b\n",
            "  Stored in directory: /root/.cache/pip/wheels/40/15/30/7d8f7cea2902b4db79e3fea550d7d7b85ecb27ef992b618f3f\n",
            "Successfully built wget\n",
            "Installing collected packages: wget\n",
            "Successfully installed wget-3.2\n"
          ],
          "name": "stdout"
        }
      ]
    },
    {
      "cell_type": "markdown",
      "metadata": {
        "id": "ZaFoh972HEUJ"
      },
      "source": [
        "# Solução da prática\n",
        "\n",
        "Implemente a funções a seguir:   "
      ]
    },
    {
      "cell_type": "markdown",
      "metadata": {
        "id": "Dnfk-bxn1P4i"
      },
      "source": [
        "Lê uma disciplina por linha do arquivo cujo nome externo é `nomearq`. Retorna a lista de disciplinas lidas."
      ]
    },
    {
      "cell_type": "code",
      "metadata": {
        "id": "uDZO1PQV1XkR"
      },
      "source": [
        "def leia_arq_disciplinas( nomearq ) : "
      ],
      "execution_count": null,
      "outputs": []
    },
    {
      "cell_type": "markdown",
      "metadata": {
        "id": "93XFFZAm1M0J"
      },
      "source": [
        "Lê, linha por linha, o nome de um aluno e as disciplinas em que ele se matriculou. Os dados em cada linha são separados por uma ví­rgula. O nome externo do arquivo é passado como parâmetro. Retorna um dicionário em que a chave é o nome de um aluno e o valor associado é o conjunto de disciplinas em que o aluno se matriculou."
      ]
    },
    {
      "cell_type": "code",
      "metadata": {
        "id": "WhLrJb-4HKbw"
      },
      "source": [
        "def leia_arq_matriculas( nomearq ) : "
      ],
      "execution_count": null,
      "outputs": []
    },
    {
      "cell_type": "markdown",
      "metadata": {
        "id": "20PEtqV_Wuwe"
      },
      "source": [
        "Coloque aqui a implementação da função `faz_horario_escolar` que recebe como parâmetro `disciplinas` e `matriculas`. O código para essa função foi implementada em sala de aula."
      ]
    },
    {
      "cell_type": "code",
      "metadata": {
        "id": "fv_xIy9qHYoh"
      },
      "source": [
        "def faz_horario_escolar( disciplinas , matriculas ) :"
      ],
      "execution_count": null,
      "outputs": []
    },
    {
      "cell_type": "markdown",
      "metadata": {
        "id": "eCeQAIuXG7fE"
      },
      "source": [
        "# Função Main\n",
        "\n",
        "Não é necessário modificar essa função."
      ]
    },
    {
      "cell_type": "code",
      "metadata": {
        "id": "oyz15u6yExDh"
      },
      "source": [
        "def main( nomeArqDisc , nomeArqMatric ):\n",
        "    # Define os nomes dos arquivos de entrada; usa os defaults, se não houver\n",
        "    # argumentos com os nomes na linha de comando.\n",
        "\n",
        "    discs = leia_arq_disciplinas(nomeArqDisc)\n",
        "    matrics = leia_arq_matriculas(nomeArqMatric)\n",
        "\n",
        "    hor = faz_horario_escolar(discs, matrics)\n",
        "    # Imprime as sessões não conflitantes do horário.\n",
        "    print('\\nSessões:')\n",
        "    for i in range(len(hor)):\n",
        "        print('{:3d}: '.format(i), sorted(hor[i]))"
      ],
      "execution_count": null,
      "outputs": []
    },
    {
      "cell_type": "markdown",
      "metadata": {
        "id": "4YahvDUtILB0"
      },
      "source": [
        "## Teste\n",
        "\n",
        "Após implementar a sua solução e executar as células acima, execute a célula a seguir."
      ]
    },
    {
      "cell_type": "code",
      "metadata": {
        "id": "BHCSXPfPExce"
      },
      "source": [
        "nomeArqDisc = 'disciplinas.txt'\n",
        "nomeArqMatric = 'matriculas.txt' \n",
        "main( nomeArqDisc , nomeArqMatric )"
      ],
      "execution_count": null,
      "outputs": []
    },
    {
      "cell_type": "code",
      "metadata": {
        "id": "A78yuq6h14Ao"
      },
      "source": [
        "nomeArqDisc = 'disciplinas2.txt'\n",
        "nomeArqMatric = 'matriculas2.txt' \n",
        "main( nomeArqDisc , nomeArqMatric )"
      ],
      "execution_count": null,
      "outputs": []
    }
  ]
}