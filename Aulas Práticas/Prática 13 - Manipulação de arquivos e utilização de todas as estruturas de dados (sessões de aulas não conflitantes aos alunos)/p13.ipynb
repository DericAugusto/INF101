{
  "nbformat": 4,
  "nbformat_minor": 0,
  "metadata": {
    "colab": {
      "name": "p13.ipynb",
      "provenance": [],
      "collapsed_sections": []
    },
    "kernelspec": {
      "display_name": "Python 3",
      "name": "python3"
    }
  },
  "cells": [
    {
      "cell_type": "markdown",
      "metadata": {
        "id": "TjcMDLudY7rv"
      },
      "source": [
        "INF101 - Introdução à Programação II  \n",
        "2020/PER-2  \n",
        "**Prática 13 Conjuntos - 2 pontos**  \n",
        "\n",
        "---\n",
        "- Nome: Déric Augusto França de Sales (deric.sales@ufv.br)  \n",
        "- Data: 06/05/2021  \n",
        "- Atualização: 06/05/2021 \n",
        "---"
      ]
    },
    {
      "cell_type": "markdown",
      "metadata": {
        "id": "jhhXSLg5Zyvi"
      },
      "source": [
        "## Descrição do programa:\n",
        "\n",
        "*O programa lê um arquivo contendo códigos de disciplinas (uma em cada linha do arquivo) e um outro arquivo contendo a identificação de alunos e as disciplinas que pretendem fazer. Através dos dados obtidos, o programa define um conjunto de sessões de aulas concomitantes onde não acontecerão conflitos de horários para os alunos que as cursarão.*"
      ]
    },
    {
      "cell_type": "markdown",
      "metadata": {
        "id": "FSUHIYXzXPgg"
      },
      "source": [
        "# Baixando os arquivos\n",
        "\n",
        "Você só precisa executar essa célula uma vez."
      ]
    },
    {
      "cell_type": "code",
      "metadata": {
        "id": "n0G3MHGVFJrz",
        "colab": {
          "base_uri": "https://localhost:8080/"
        },
        "outputId": "06f77352-564b-49d6-a7d6-652270a3e9c0"
      },
      "source": [
        "!pip install wget\n",
        "\n",
        "import wget\n",
        "\n",
        "url = 'http://linux-server.lbi.ufv.br/arquivos/roteiros/416/pratica-13-1207.txt'\n",
        "filename = wget.download(url, 'disciplinas.txt')\n",
        "\n",
        "url = 'http://linux-server.lbi.ufv.br/arquivos/roteiros/416/pratica-13-1208.txt'\n",
        "filename = wget.download(url, 'matriculas.txt')\n",
        "\n",
        "url = 'http://linux-server.lbi.ufv.br/arquivos/roteiros/416/pratica-13-1209.txt'\n",
        "filename = wget.download(url, 'disciplinas2.txt')\n",
        "\n",
        "url = 'http://linux-server.lbi.ufv.br/arquivos/roteiros/416/pratica-13-1210.txt'\n",
        "filename = wget.download(url, 'matriculas2.txt')"
      ],
      "execution_count": 1,
      "outputs": [
        {
          "output_type": "stream",
          "text": [
            "Collecting wget\n",
            "  Downloading https://files.pythonhosted.org/packages/47/6a/62e288da7bcda82b935ff0c6cfe542970f04e29c756b0e147251b2fb251f/wget-3.2.zip\n",
            "Building wheels for collected packages: wget\n",
            "  Building wheel for wget (setup.py) ... \u001b[?25l\u001b[?25hdone\n",
            "  Created wheel for wget: filename=wget-3.2-cp37-none-any.whl size=9681 sha256=22f2570c01d8aca5dc63c76880cc84f55672a0076b86c7947af6159c062d362b\n",
            "  Stored in directory: /root/.cache/pip/wheels/40/15/30/7d8f7cea2902b4db79e3fea550d7d7b85ecb27ef992b618f3f\n",
            "Successfully built wget\n",
            "Installing collected packages: wget\n",
            "Successfully installed wget-3.2\n"
          ],
          "name": "stdout"
        }
      ]
    },
    {
      "cell_type": "markdown",
      "metadata": {
        "id": "ZaFoh972HEUJ"
      },
      "source": [
        "# Solução da prática\n",
        "\n",
        "Implemente a funções a seguir:   "
      ]
    },
    {
      "cell_type": "markdown",
      "metadata": {
        "id": "Dnfk-bxn1P4i"
      },
      "source": [
        "Lê uma disciplina por linha do arquivo cujo nome externo é `nomearq`. Retorna a lista de disciplinas lidas."
      ]
    },
    {
      "cell_type": "code",
      "metadata": {
        "id": "uDZO1PQV1XkR"
      },
      "source": [
        "def leia_arq_disciplinas( nomearq ) : \n",
        "  try:\n",
        "    with open(nomearq) as arq:\n",
        "      listArq = []\n",
        "      for linha in arq.readlines():\n",
        "        listArq.append( linha.rstrip('\\n') )\n",
        "      return listArq\n",
        "  except:\n",
        "    return []\n",
        "    print('Arquivo não encontrado.')"
      ],
      "execution_count": 14,
      "outputs": []
    },
    {
      "cell_type": "markdown",
      "metadata": {
        "id": "93XFFZAm1M0J"
      },
      "source": [
        "Lê, linha por linha, o nome de um aluno e as disciplinas em que ele se matriculou. Os dados em cada linha são separados por uma ví­rgula. O nome externo do arquivo é passado como parâmetro. Retorna um dicionário em que a chave é o nome de um aluno e o valor associado é o conjunto de disciplinas em que o aluno se matriculou."
      ]
    },
    {
      "cell_type": "code",
      "metadata": {
        "id": "WhLrJb-4HKbw"
      },
      "source": [
        "def leia_arq_matriculas( nomearq ) : \n",
        "  try:\n",
        "    with open(nomearq) as arq:\n",
        "      dictTurma = {}\n",
        "      for linha in arq.readlines():\n",
        "        lista = linha.rstrip('\\n').split(',')  \n",
        "        dictTurma[lista[0]] = set( lista[1:] )\n",
        "      return dictTurma\n",
        "  except:\n",
        "    return {}\n",
        "    print('Arquivo não encontrado.')"
      ],
      "execution_count": 19,
      "outputs": []
    },
    {
      "cell_type": "markdown",
      "metadata": {
        "id": "20PEtqV_Wuwe"
      },
      "source": [
        "Coloque aqui a implementação da função `faz_horario_escolar` que recebe como parâmetro `disciplinas` e `matriculas`. O código para essa função foi implementada em sala de aula."
      ]
    },
    {
      "cell_type": "markdown",
      "metadata": {
        "id": "tYW0AvCRzHEU"
      },
      "source": [
        "_<font color = 'green'> Comentários: </font> como o objetivo da prática era entender e utilizar um código pronto, resolvi comentar a função a explicando passo a passo._"
      ]
    },
    {
      "cell_type": "code",
      "metadata": {
        "id": "fv_xIy9qHYoh"
      },
      "source": [
        "def faz_horario_escolar( disciplinas , matriculas ) :\n",
        "  # Lista com o conjunto de conflitos referente à \n",
        "  # cada disciplina da lista \"disciplinas\"\n",
        "  emptySet = set()\n",
        "  conflito = [emptySet for d in disciplinas]\n",
        "\n",
        "  # Analisando as demandas de cada alun@\n",
        "  for key in matriculas.keys():\n",
        "\n",
        "    for d in range(len(disciplinas)): \n",
        "      # Checando se a diciplina em questão está no conjunto\n",
        "      # de disciplinas d@ alun@\n",
        "      if disciplinas[d] in matriculas[key]: \n",
        "        # Se sim, as disciplinas do aluno entram no \n",
        "        # conjunto conflitante da disciplina em questão\n",
        "        conflito[d] = conflito[d].union(matriculas[key])\n",
        "\n",
        "  # Agora, através da lista com os conjuntos de conflito de cada disciplina,\n",
        "  # se constrói o horário (que é uma lista de sessões), em que cada sessão é\n",
        "  # uma seleção de disciplinas que não possuem conflitos entre si.\n",
        "\n",
        "  # conjunto de disciplinas a serem adicionadas no horário\n",
        "  restante = set(disciplinas)\n",
        "  horario = []\n",
        "  while restante != emptySet:\n",
        "    i = 0\n",
        "    d = disciplinas[i]\n",
        "\n",
        "  # encontra uma disciplina que está no conjunto \"restante\"\n",
        "    while d not in restante:\n",
        "      i = i + 1\n",
        "      d = disciplinas[i]\n",
        "\n",
        "    # iniciando conjunto de disciplinas que não conflitam\n",
        "    sessao = {d}\n",
        "    # conjunto de disciplinas que não têm conflito com as matérias em questão\n",
        "    tentativa = restante.difference(conflito[i])\n",
        "\n",
        "    for s in range(len(disciplinas)):\n",
        "      # selecionar uma disciplina do conjunto de tentativas\n",
        "      if disciplinas[s] in tentativa:\n",
        "        # se não tem conflito\n",
        "        if conflito[s].intersection(sessao) == emptySet:\n",
        "          # entra pra sessão\n",
        "          sessao.add(disciplinas[s])\n",
        "\n",
        "    # adicionando a sessão encontrada ao horário\n",
        "    horario.append(sessao)\n",
        "    # reiniciando o ciclo, subtraindo as disciplinas adicionadas à uma sessão\n",
        "    restante = restante.difference(sessao)\n",
        "\n",
        "  return horario"
      ],
      "execution_count": 22,
      "outputs": []
    },
    {
      "cell_type": "markdown",
      "metadata": {
        "id": "eCeQAIuXG7fE"
      },
      "source": [
        "# Função Main\n",
        "\n",
        "Não é necessário modificar essa função."
      ]
    },
    {
      "cell_type": "code",
      "metadata": {
        "id": "oyz15u6yExDh"
      },
      "source": [
        "def main( nomeArqDisc , nomeArqMatric ):\n",
        "\n",
        "    # Define os nomes dos arquivos de entrada; usa os defaults, se não houver\n",
        "    # argumentos com os nomes na linha de comando.\n",
        "    discs = leia_arq_disciplinas(nomeArqDisc)\n",
        "    matrics = leia_arq_matriculas(nomeArqMatric)\n",
        "\n",
        "    hor = faz_horario_escolar(discs, matrics)\n",
        "\n",
        "    # Imprime as sessões não conflitantes do horário.\n",
        "    print('\\nSessões:')\n",
        "    for i in range(len(hor)):\n",
        "        print('{:3d}: '.format(i), sorted(hor[i]))"
      ],
      "execution_count": 23,
      "outputs": []
    },
    {
      "cell_type": "markdown",
      "metadata": {
        "id": "4YahvDUtILB0"
      },
      "source": [
        "## Teste\n",
        "\n",
        "Após implementar a sua solução e executar as células acima, execute a célula a seguir."
      ]
    },
    {
      "cell_type": "code",
      "metadata": {
        "id": "BHCSXPfPExce",
        "colab": {
          "base_uri": "https://localhost:8080/"
        },
        "outputId": "8fd17efb-babd-4808-927c-09295f8a6216"
      },
      "source": [
        "nomeArqDisc = 'disciplinas.txt'\n",
        "nomeArqMatric = 'matriculas.txt' \n",
        "main( nomeArqDisc , nomeArqMatric )"
      ],
      "execution_count": 26,
      "outputs": [
        {
          "output_type": "stream",
          "text": [
            "\n",
            "Sessões:\n",
            "  0:  ['INF100', 'INF101']\n",
            "  1:  ['FIS203', 'INF103', 'MAT140']\n",
            "  2:  ['MAT141', 'MAT144']\n",
            "  3:  ['LET100']\n"
          ],
          "name": "stdout"
        }
      ]
    },
    {
      "cell_type": "code",
      "metadata": {
        "id": "A78yuq6h14Ao",
        "colab": {
          "base_uri": "https://localhost:8080/"
        },
        "outputId": "2177f488-d463-4613-fa08-0bf4b8bbb7d3"
      },
      "source": [
        "nomeArqDisc = 'disciplinas2.txt'\n",
        "nomeArqMatric = 'matriculas2.txt' \n",
        "main( nomeArqDisc , nomeArqMatric )"
      ],
      "execution_count": 27,
      "outputs": [
        {
          "output_type": "stream",
          "text": [
            "\n",
            "Sessões:\n",
            "  0:  ['INF100', 'INF101']\n",
            "  1:  ['INF103']\n",
            "  2:  ['MAT140']\n"
          ],
          "name": "stdout"
        }
      ]
    }
  ]
}