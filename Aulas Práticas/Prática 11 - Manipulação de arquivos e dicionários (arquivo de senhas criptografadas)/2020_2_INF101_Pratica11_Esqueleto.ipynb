{
  "nbformat": 4,
  "nbformat_minor": 0,
  "metadata": {
    "colab": {
      "name": "2020-2-INF101-Pratica11-Esqueleto.ipynb",
      "provenance": [],
      "collapsed_sections": [],
      "toc_visible": true
    },
    "kernelspec": {
      "display_name": "Python 3",
      "name": "python3"
    }
  },
  "cells": [
    {
      "cell_type": "markdown",
      "metadata": {
        "id": "TjcMDLudY7rv"
      },
      "source": [
        "INF101 - Introdução à Programação II  \n",
        "2020/PER-2  \n",
        "**Prática 11: Arquivos e Dicionários - 2 pontos**  \n",
        "\n",
        "---\n",
        "- Nome: Nome (e-mail)  \n",
        "- Data: 20/04/2021  \n",
        "- Atualização: 21/04/2021 \n",
        "---"
      ]
    },
    {
      "cell_type": "markdown",
      "metadata": {
        "id": "jhhXSLg5Zyvi"
      },
      "source": [
        "## Descrição do programa:\n",
        "\n",
        "*Insira a descrição aqui*."
      ]
    },
    {
      "cell_type": "markdown",
      "metadata": {
        "id": "wM1RPO8gpByc"
      },
      "source": [
        "# Códigos prontos"
      ]
    },
    {
      "cell_type": "markdown",
      "metadata": {
        "id": "CbNXVjXPpFsA"
      },
      "source": [
        "Não é preciso alterar estes códigos prontos:"
      ]
    },
    {
      "cell_type": "code",
      "metadata": {
        "id": "WhLrJb-4HKbw"
      },
      "source": [
        "import uuid\n",
        "import hashlib\n",
        "import sys\n",
        "\n",
        "# Calcula o hash de senha, usando o conjunto de funções de hash criptográficas\n",
        "# SHA-2, com 256 bits. Para maiores informações, consulte:\n",
        "# https://pt.wikipedia.org/wiki/SHA-2\n",
        "def hash_password(senha):\n",
        "    # salt é um número aleatório inserido no início do hash para dificultar\n",
        "    # a quebra do código por algum hacker malicioso.\n",
        "    salt = uuid.uuid4().hex\n",
        "    return hashlib.sha256(salt.encode() + senha.encode()).hexdigest() + ':' \\\n",
        "        + salt  # concatena-se a pedra de sal ao final para saber depois qual é\n",
        "\n",
        "\n",
        "# Verifica se a senha em texto claro bate com a senha original criptografada.\n",
        "def autenticado(clear, hashed):\n",
        "    decSenha, salt = hashed.split(':')  # separa a senha criptografada e a\n",
        "                                        # pedra de sal\n",
        "    return decSenha == hashlib.sha256(salt.encode() + \\\n",
        "                       clear.encode()).hexdigest()"
      ],
      "execution_count": null,
      "outputs": []
    },
    {
      "cell_type": "markdown",
      "metadata": {
        "id": "ZaFoh972HEUJ"
      },
      "source": [
        "# Solução da prática\n",
        "\n",
        "Implemente as funções a seguir:\n",
        "   "
      ]
    },
    {
      "cell_type": "markdown",
      "metadata": {
        "id": "20PEtqV_Wuwe"
      },
      "source": [
        "A seguinte função `gere_dicionario(arqnome)` gera um dicionário a partir dos dados lidos do arquivo cujo nome está no parâmetro `arqnome`. Retorna o dicionário gerado."
      ]
    },
    {
      "cell_type": "code",
      "metadata": {
        "id": "fv_xIy9qHYoh"
      },
      "source": [
        "# COLOQUE AQUI A SUA IMPLEMENTAÇÃO DA FUNÇÃO gere_dicionario(arqnome). #"
      ],
      "execution_count": null,
      "outputs": []
    },
    {
      "cell_type": "markdown",
      "metadata": {
        "id": "kHyCVUlSbaMX"
      },
      "source": [
        "A função `armazene(dicSenhas, arqnome)` salva o dicionário `dicSenhas` recebido por parâmetro em um arquivo cujo nome está no parâmetro `arqnome`. Essa função não tem retorno."
      ]
    },
    {
      "cell_type": "code",
      "metadata": {
        "id": "ua-Z8on_btPp"
      },
      "source": [
        "# COLOQUE AQUI A SUA IMPLEMENTAÇÃO DA FUNÇÃO armazene(dicSenhas, arqnome). #"
      ],
      "execution_count": null,
      "outputs": []
    },
    {
      "cell_type": "markdown",
      "metadata": {
        "id": "F5ms7KK8bupl"
      },
      "source": [
        "A função `pesquise(dicSenhas, nome)` retorna a senha codificada associada ao parâmetro `nome`. Se `nome` não for encontrado no dicionário `dicSenhas`, ela retorna o caractere nulo `\\0`.\n"
      ]
    },
    {
      "cell_type": "code",
      "metadata": {
        "id": "g8ibfTYecAqo"
      },
      "source": [
        "# COLOQUE AQUI A SUA IMPLEMENTAÇÃO DA FUNÇÃO pesquise(dicSenhas, nome). #"
      ],
      "execution_count": null,
      "outputs": []
    },
    {
      "cell_type": "markdown",
      "metadata": {
        "id": "5goTit2HcCQl"
      },
      "source": [
        "A função `insira(dicSEnhas, login, senha)` insere, no dicionário `dicSenhas`, o par `(login, senha codificada)`."
      ]
    },
    {
      "cell_type": "code",
      "metadata": {
        "id": "FWHrmF0ucPhW"
      },
      "source": [
        "# COLOQUE AQUI A SUA IMPLEMENTAÇÃO DA FUNÇÃO insira(dicSEnhas, login, senha). #"
      ],
      "execution_count": null,
      "outputs": []
    },
    {
      "cell_type": "markdown",
      "metadata": {
        "id": "eCeQAIuXG7fE"
      },
      "source": [
        "# Função Main\n",
        "\n",
        "Não é necessário modificar esta função."
      ]
    },
    {
      "cell_type": "code",
      "metadata": {
        "id": "oyz15u6yExDh"
      },
      "source": [
        "\n",
        "arqnome = 'passwords.hash'  # nome externo default do arquivo de senhas\n",
        "\n",
        "def main():\n",
        "    print('Início do processamento do arquivo de senhas \\'{}\\'.'.\n",
        "          format(arqnome))\n",
        "    # Gera o dicionário a partir do arquivo cujo nome é arqnome.\n",
        "    senhas_cripto = gere_dicionario(arqnome)\n",
        "    login_name = input('\\nLogin name: ')\n",
        "    while len(login_name) > 0:\n",
        "        senha = input('Password: ')\n",
        "        encSenha = pesquise(senhas_cripto, login_name)\n",
        "        if encSenha != '\\0':\n",
        "            print('O usuário \\'{}\\' '.format(login_name), end='')\n",
        "            if not autenticado(senha, encSenha):\n",
        "                print('NÃO ', end='')\n",
        "            print('foi autenticado pelo sistema.')\n",
        "        else:\n",
        "            print('O usuário \\'{}\\' não existe. Está sendo criado...'.\n",
        "                  format(login_name))\n",
        "            insira(senhas_cripto, login_name, senha)\n",
        "        login_name = input('\\nLogin name: ')\n",
        "    # Armazena o dicionário de volta no arquivo de nome arqnome.\n",
        "    armazene(senhas_cripto, arqnome)\n",
        "    print('\\nFim do processamento do arquivo de senhas.')"
      ],
      "execution_count": null,
      "outputs": []
    },
    {
      "cell_type": "markdown",
      "metadata": {
        "id": "4YahvDUtILB0"
      },
      "source": [
        "## Teste\n",
        "\n",
        "Após implementar a sua solução e executar as células acima, execute a célula a seguir."
      ]
    },
    {
      "cell_type": "code",
      "metadata": {
        "id": "BHCSXPfPExce"
      },
      "source": [
        "main()"
      ],
      "execution_count": null,
      "outputs": []
    },
    {
      "cell_type": "markdown",
      "metadata": {
        "id": "q802-uBSoetL"
      },
      "source": [
        "## Verificação do arquivo de senhas\n",
        "Faça uma inspeção visual do arquivo de senhas gerado pelos testes de sua implementação executando a seguinte linha de comando:"
      ]
    },
    {
      "cell_type": "code",
      "metadata": {
        "id": "15xv4dbRpQmr"
      },
      "source": [
        "!cat passwords.hash"
      ],
      "execution_count": null,
      "outputs": []
    }
  ]
}