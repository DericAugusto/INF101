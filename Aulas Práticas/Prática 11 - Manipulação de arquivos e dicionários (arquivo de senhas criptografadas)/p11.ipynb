{
  "nbformat": 4,
  "nbformat_minor": 0,
  "metadata": {
    "colab": {
      "name": "p11.ipynb",
      "provenance": [],
      "collapsed_sections": []
    },
    "kernelspec": {
      "display_name": "Python 3",
      "name": "python3"
    }
  },
  "cells": [
    {
      "cell_type": "markdown",
      "metadata": {
        "id": "TjcMDLudY7rv"
      },
      "source": [
        "INF101 - Introdução à Programação II  \n",
        "2020/PER-2  \n",
        "**Prática 11: Arquivos e Dicionários - 2 pontos**  \n",
        "\n",
        "---\n",
        "- Nome: Déric Augusto França de Sales (deric.sales@ufv.br)  \n",
        "- Data: 28/04/2021  \n",
        "- Atualização: 28/04/2021 \n",
        "---"
      ]
    },
    {
      "cell_type": "markdown",
      "metadata": {
        "id": "jhhXSLg5Zyvi"
      },
      "source": [
        "## Descrição do programa:\n",
        "\n",
        "*Dessa vez não :(*"
      ]
    },
    {
      "cell_type": "markdown",
      "metadata": {
        "id": "wM1RPO8gpByc"
      },
      "source": [
        "# Códigos prontos"
      ]
    },
    {
      "cell_type": "markdown",
      "metadata": {
        "id": "CbNXVjXPpFsA"
      },
      "source": [
        "Não é preciso alterar estes códigos prontos:"
      ]
    },
    {
      "cell_type": "code",
      "metadata": {
        "id": "WhLrJb-4HKbw"
      },
      "source": [
        "import uuid\n",
        "import hashlib\n",
        "import sys\n",
        "\n",
        "# Calcula o hash de senha, usando o conjunto de funções de hash criptográficas\n",
        "# SHA-2, com 256 bits. Para maiores informações, consulte:\n",
        "# https://pt.wikipedia.org/wiki/SHA-2\n",
        "def hash_password(senha):\n",
        "    # salt é um número aleatório inserido no início do hash para dificultar\n",
        "    # a quebra do código por algum hacker malicioso.\n",
        "    salt = uuid.uuid4().hex\n",
        "    return hashlib.sha256(salt.encode() + senha.encode()).hexdigest() + ':' \\\n",
        "        + salt  # concatena-se a pedra de sal ao final para saber depois qual é\n",
        "\n",
        "# Verifica se a senha em texto claro bate com a senha original criptografada.\n",
        "def autenticado(clear, hashed):\n",
        "    decSenha, salt = hashed.split(':')  # separa a senha criptografada e a\n",
        "                                        # pedra de sal\n",
        "    return decSenha == hashlib.sha256(salt.encode() + \\\n",
        "                       clear.encode()).hexdigest()"
      ],
      "execution_count": 78,
      "outputs": []
    },
    {
      "cell_type": "markdown",
      "metadata": {
        "id": "ZaFoh972HEUJ"
      },
      "source": [
        "# Solução da prática\n",
        "\n",
        "Implemente as funções a seguir:\n",
        "   "
      ]
    },
    {
      "cell_type": "markdown",
      "metadata": {
        "id": "20PEtqV_Wuwe"
      },
      "source": [
        "A seguinte função `gere_dicionario(arqnome)` gera um dicionário a partir dos dados lidos do arquivo cujo nome está no parâmetro `arqnome`. Retorna o dicionário gerado."
      ]
    },
    {
      "cell_type": "code",
      "metadata": {
        "id": "fv_xIy9qHYoh"
      },
      "source": [
        "# COLOQUE AQUI A SUA IMPLEMENTAÇÃO DA FUNÇÃO gere_dicionario(arqnome). #        \n",
        "\n",
        "def gere_dicionario(arqnome):\n",
        "  try:\n",
        "    dicionario = {}\n",
        "    with open(arqnome, 'r') as arquivo:\n",
        "      for tupla in arquivo.readlines():\n",
        "        tupla = tupla.rstrip('\\n')\n",
        "        loginName, encrPassword = tupla.split('\\t')        \n",
        "        dicionario[loginName] = encrPassword\n",
        "      return dicionario   \n",
        "\n",
        "  except FileNotFoundError :\n",
        "    print('O arquivo de senhas \\'{}\\' não existe.' \\\n",
        "          ' Será criado...'.format(arqnome))\n",
        "    # Criando o arquivo\n",
        "    arquivo = open(arqnome,'w')\n",
        "    arquivo.close()\n",
        "    # Retornando um dicionário vazio\n",
        "    return {}"
      ],
      "execution_count": 53,
      "outputs": []
    },
    {
      "cell_type": "markdown",
      "metadata": {
        "id": "kHyCVUlSbaMX"
      },
      "source": [
        "A função `armazene(dicSenhas, arqnome)` salva o dicionário `dicSenhas` recebido por parâmetro em um arquivo cujo nome está no parâmetro `arqnome`. Essa função não tem retorno."
      ]
    },
    {
      "cell_type": "code",
      "metadata": {
        "id": "ua-Z8on_btPp"
      },
      "source": [
        "# COLOQUE AQUI A SUA IMPLEMENTAÇÃO DA FUNÇÃO armazene(dicSenhas, arqnome). #\n",
        "\n",
        "def armazene(dicSenhas, arqnome):\n",
        "  try:\n",
        "    with open(arqnome, 'w') as arquivo:\n",
        "      for key in dicSenhas.keys():\n",
        "        arquivo.write( key + '\\t' + dicSenhas[key] + '\\n' )\n",
        "  except OSError:\n",
        "    print('Erro ao criar o arquivo de senhas!')"
      ],
      "execution_count": 80,
      "outputs": []
    },
    {
      "cell_type": "markdown",
      "metadata": {
        "id": "F5ms7KK8bupl"
      },
      "source": [
        "A função `pesquise(dicSenhas, nome)` retorna a senha codificada associada ao parâmetro `nome`. Se `nome` não for encontrado no dicionário `dicSenhas`, ela retorna o caractere nulo `\\0`.\n"
      ]
    },
    {
      "cell_type": "code",
      "metadata": {
        "id": "g8ibfTYecAqo"
      },
      "source": [
        "# COLOQUE AQUI A SUA IMPLEMENTAÇÃO DA FUNÇÃO pesquise(dicSenhas, nome). #\n",
        "\n",
        "def pesquise(dicSenhas, nome):\n",
        "  try:\n",
        "    return dicSenhas[nome]\n",
        "  except KeyError:\n",
        "    return '\\0'"
      ],
      "execution_count": 75,
      "outputs": []
    },
    {
      "cell_type": "markdown",
      "metadata": {
        "id": "5goTit2HcCQl"
      },
      "source": [
        "A função `insira(dicSenhas, login, senha)` insere, no dicionário `dicSenhas`, o par `(login, senha codificada)`."
      ]
    },
    {
      "cell_type": "code",
      "metadata": {
        "id": "FWHrmF0ucPhW"
      },
      "source": [
        "# COLOQUE AQUI A SUA IMPLEMENTAÇÃO DA FUNÇÃO insira(dicSenhas, login, senha). #\n",
        "\n",
        "def insira(dicSenhas, login, senha):\n",
        "  dicSenhas[login] = hash_password(senha)"
      ],
      "execution_count": 76,
      "outputs": []
    },
    {
      "cell_type": "markdown",
      "metadata": {
        "id": "eCeQAIuXG7fE"
      },
      "source": [
        "# Função Main\n",
        "\n",
        "Não é necessário modificar esta função."
      ]
    },
    {
      "cell_type": "code",
      "metadata": {
        "id": "oyz15u6yExDh"
      },
      "source": [
        "arqnome = 'passwords.hash'  # nome externo default do arquivo de senhas\n",
        "\n",
        "def main():\n",
        "    print('Início do processamento do arquivo de senhas \\'{}\\'.'.\n",
        "          format(arqnome))\n",
        "    # Gera o dicionário a partir do arquivo cujo nome é arqnome.\n",
        "    senhas_cripto = gere_dicionario(arqnome)\n",
        "    login_name = input('\\nLogin name: ')\n",
        "    while len(login_name) > 0:\n",
        "        senha = input('Password: ')\n",
        "        encSenha = pesquise(senhas_cripto, login_name)\n",
        "        if encSenha != '\\0':\n",
        "            print('O usuário \\'{}\\' '.format(login_name), end='')\n",
        "            if not autenticado(senha, encSenha):\n",
        "                print('NÃO ', end='')\n",
        "            print('foi autenticado pelo sistema.')\n",
        "        else:\n",
        "            print('O usuário \\'{}\\' não existe. Está sendo criado...'.\n",
        "                  format(login_name))\n",
        "            insira(senhas_cripto, login_name, senha)\n",
        "        login_name = input('\\nLogin name: ')\n",
        "    # Armazena o dicionário de volta no arquivo de nome arqnome.\n",
        "    armazene(senhas_cripto, arqnome)\n",
        "    print('\\nFim do processamento do arquivo de senhas.')"
      ],
      "execution_count": 77,
      "outputs": []
    },
    {
      "cell_type": "markdown",
      "metadata": {
        "id": "4YahvDUtILB0"
      },
      "source": [
        "## Teste\n",
        "\n",
        "Após implementar a sua solução e executar as células acima, execute a célula a seguir."
      ]
    },
    {
      "cell_type": "code",
      "metadata": {
        "colab": {
          "base_uri": "https://localhost:8080/"
        },
        "id": "p1n1-MpkHDPs",
        "outputId": "5566ea64-1a48-4168-8b29-ad690c48ad20"
      },
      "source": [
        "main()"
      ],
      "execution_count": 82,
      "outputs": [
        {
          "output_type": "stream",
          "text": [
            "Início do processamento do arquivo de senhas 'passwords.hash'.\n",
            "\n",
            "Login name: lcaa\n",
            "Password: 123456\n",
            "O usuário 'lcaa' foi autenticado pelo sistema.\n",
            "\n",
            "Login name: 90876\n",
            "Password: pau-brasil\n",
            "O usuário '90876' NÃO foi autenticado pelo sistema.\n",
            "\n",
            "Login name: admin\n",
            "Password: \n",
            "O usuário 'admin' não existe. Está sendo criado...\n",
            "\n",
            "Login name: guest\n",
            "Password: guest\n",
            "O usuário 'guest' não existe. Está sendo criado...\n",
            "\n",
            "Login name: \n",
            "\n",
            "Fim do processamento do arquivo de senhas.\n"
          ],
          "name": "stdout"
        }
      ]
    },
    {
      "cell_type": "markdown",
      "metadata": {
        "id": "q802-uBSoetL"
      },
      "source": [
        "## Verificação do arquivo de senhas\n",
        "Faça uma inspeção visual do arquivo de senhas gerado pelos testes de sua implementação executando a seguinte linha de comando:"
      ]
    },
    {
      "cell_type": "code",
      "metadata": {
        "id": "15xv4dbRpQmr",
        "colab": {
          "base_uri": "https://localhost:8080/"
        },
        "outputId": "5305bb73-160b-41cc-f3e6-0537afbe916c"
      },
      "source": [
        "!cat passwords.hash"
      ],
      "execution_count": 83,
      "outputs": [
        {
          "output_type": "stream",
          "text": [
            "lcaa\tac1d75b36d31e449d071a46f88c3a63ab603cf064c081c66b926c3cd551e243f:dc23e96f992148a184bd10bcfd254db0\n",
            "90876\t95078e3fd01e66634469aabcc7c36864b779ebf780f9373b45a06cc2a9d17499:06d9343a1b544c0b953411d48f0f5d3c\n",
            "flordelis\td80d57469af7b9d33bc07a2f758243bf2613633913fff9fcedd4e333371f89e7:91f94c49fbe645c78c22c9e2693c6b40\n",
            "admin\t85009940d2e4924a727e338b776d5323cf0d3acf261fb3f546930c1b2e5bf1b8:b4434a8f3ce94b56a5d2686c3691ab1b\n",
            "guest\t07261124b316ee139eba617f581fd0da66aa235b7cf8f1ce661bc69604826501:33048272568c46d5adb8933bb83fa8fa\n"
          ],
          "name": "stdout"
        }
      ]
    }
  ]
}