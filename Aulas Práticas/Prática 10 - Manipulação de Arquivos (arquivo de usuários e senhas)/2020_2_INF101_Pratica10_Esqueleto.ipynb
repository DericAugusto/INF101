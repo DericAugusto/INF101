{
  "nbformat": 4,
  "nbformat_minor": 0,
  "metadata": {
    "colab": {
      "name": "2020-2-INF101-Pratica10-Esqueleto.ipynb",
      "provenance": [],
      "collapsed_sections": []
    },
    "kernelspec": {
      "display_name": "Python 3",
      "name": "python3"
    }
  },
  "cells": [
    {
      "cell_type": "markdown",
      "metadata": {
        "id": "TjcMDLudY7rv"
      },
      "source": [
        "INF101 - Introdução à Programação II  \n",
        "2020/PER-2  \n",
        "**Prática 10 Arquivos - 2 pontos**  \n",
        "\n",
        "---\n",
        "- Nome: Nome (e-mail)  \n",
        "- Data: 15/04/2021  \n",
        "- Atualização: 15/04/2021 \n",
        "---"
      ]
    },
    {
      "cell_type": "markdown",
      "metadata": {
        "id": "jhhXSLg5Zyvi"
      },
      "source": [
        "## Descrição do programa:\n",
        "\n",
        "*Insira a descrição aqui*."
      ]
    },
    {
      "cell_type": "markdown",
      "metadata": {
        "id": "wM1RPO8gpByc"
      },
      "source": [
        "# Códigos prontos"
      ]
    },
    {
      "cell_type": "markdown",
      "metadata": {
        "id": "CbNXVjXPpFsA"
      },
      "source": [
        "Não é preciso alterar esses códigos prontos:"
      ]
    },
    {
      "cell_type": "code",
      "metadata": {
        "id": "WhLrJb-4HKbw"
      },
      "source": [
        "# Insere, no final do arquivo texto de senhas, o par login, senha.\n",
        "def insira(nome, senha):\n",
        "    try:\n",
        "        arq = open(arqNome, 'a')\n",
        "        arq.write('{}\\t{}\\n'.format(nome, senha))\n",
        "        arq.close()\n",
        "    except OSError:\n",
        "        print('***Erro: o arquivo \\'{}\\' não existe.'.format(arqNome))\n",
        "\n",
        "def autenticado(s, es):\n",
        "    return s == es"
      ],
      "execution_count": null,
      "outputs": []
    },
    {
      "cell_type": "markdown",
      "metadata": {
        "id": "ZaFoh972HEUJ"
      },
      "source": [
        "# Solução da prática\n",
        "\n",
        "Implemente a função a seguir:\n",
        "   "
      ]
    },
    {
      "cell_type": "markdown",
      "metadata": {
        "id": "20PEtqV_Wuwe"
      },
      "source": [
        "A função pesquise `pesquise(nome)` retorna a senha em texto claro associada a nome.\n",
        "Se nome não for encontrado no arquivo de senhas, ela retorna o caractere nulo."
      ]
    },
    {
      "cell_type": "code",
      "metadata": {
        "id": "fv_xIy9qHYoh"
      },
      "source": [
        ""
      ],
      "execution_count": null,
      "outputs": []
    },
    {
      "cell_type": "markdown",
      "metadata": {
        "id": "eCeQAIuXG7fE"
      },
      "source": [
        "# Função Main\n",
        "\n",
        "Não é necessário modificar essa função."
      ]
    },
    {
      "cell_type": "code",
      "metadata": {
        "id": "oyz15u6yExDh"
      },
      "source": [
        "arqNome = 'passwords.txt' # nome externo do arquivo de senhas (em texto claro)\n",
        "\n",
        "def main():\n",
        "    print('Início do processamento do arquivo de senhas \\'{}\\'.'.\n",
        "          format(arqNome))\n",
        "    login_name = input('\\nLogin name: ')\n",
        "    while len(login_name) > 0:\n",
        "        senha = input('Password: ')\n",
        "        encSenha = pesquise(login_name)\n",
        "        if encSenha != '\\0':\n",
        "            print('O usuário \\'{}\\' '.format(login_name), end='')\n",
        "            if not autenticado(senha, encSenha):\n",
        "                print('NÃO ', end='')\n",
        "            print('foi autenticado pelo sistema.')\n",
        "        else:\n",
        "            print('O usuário \\'{}\\' não existe. Está sendo criado...'.\n",
        "                  format(login_name))\n",
        "            insira(login_name, senha)\n",
        "        login_name = input('\\nLogin name: ')\n",
        "    print('\\nFim do processamento do arquivo de senhas.')"
      ],
      "execution_count": null,
      "outputs": []
    },
    {
      "cell_type": "markdown",
      "metadata": {
        "id": "4YahvDUtILB0"
      },
      "source": [
        "## Teste\n",
        "\n",
        "Após implementar a sua solução e executar as células acima, execute a célula a seguir."
      ]
    },
    {
      "cell_type": "code",
      "metadata": {
        "id": "BHCSXPfPExce"
      },
      "source": [
        "main()"
      ],
      "execution_count": null,
      "outputs": []
    }
  ]
}