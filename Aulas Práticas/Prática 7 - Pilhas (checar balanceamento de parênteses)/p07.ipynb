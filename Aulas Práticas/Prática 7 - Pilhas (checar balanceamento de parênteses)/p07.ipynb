{
  "nbformat": 4,
  "nbformat_minor": 0,
  "metadata": {
    "colab": {
      "name": "p07.ipynb",
      "provenance": [],
      "collapsed_sections": [],
      "toc_visible": true
    },
    "kernelspec": {
      "name": "python3",
      "display_name": "Python 3"
    }
  },
  "cells": [
    {
      "cell_type": "markdown",
      "metadata": {
        "id": "eqKY3zr0HKOR"
      },
      "source": [
        "# Prática 07 de INF101 – 2020/PER2\n",
        "\n",
        "\n",
        "*   Autor: *Déric Augusto França de Sales*\n",
        "*   Matrícula: *96718*\n",
        "*   E-mail: *deric.sales@ufv.br*\n",
        "*   Data da criação: *18/03/2021*\n",
        "*   Data da atualização: *18/03/2021*\n",
        "*   *Este programa checa se a expressão está com um balanceamento de parênteses adequado, fazendo uso da função analise_parenteses(expressao) que retorna um valor booleano verdadeiro se a expressão estiver balanceada e falso caso contrário.*\n",
        "\n"
      ]
    },
    {
      "cell_type": "markdown",
      "metadata": {
        "id": "IEoPR0JKIkvR"
      },
      "source": [
        "# Balanceamento de Parênteses em Expressões\n",
        "O objetivo desta prática é exercitar o uso da estrutura de dados *pilha* que é uma lista que obedece a regra LIFO para todas as inserções e remoções de elementos. Para ilustrar o uso de pilha, vamos considerar o problema clássico da ciência da computação denominado *balanceamnto de parênteses* em uma expressão. Considere que a expressão seja armazenada em um *string*. A solução do problema baseia-se no seguinte algoritmo:\n",
        "\n",
        "\n",
        "1.   Crie uma pilha vazia (lista vazia).\n",
        "2.   Varra o *string* de entrada caractere por caractere. Ao encontrar um abre-parêntese (parêntese esquerdo), empilhe-o.\n",
        "3.   Se o caractere inspecionado no momento for um fecha-parêntese (parêntese direito), desempilhe o correspondente abre-parêntese do topo da pilha. Se a pilha estiver vazia antes de desempilhar, termine a varredura da expressão relatando (retornando) desbalanceamento.\n",
        "4.   Para qualquer outro caractere que não seja abre ou fecha-parêntese, ignore-o. Aqui podemos fazer isso, porque não queremos analisar a expressão de entrada mais profundamente, como por exemplo, reconhecer operandos e operadores.\n",
        "5.   Ao terminar a varredura da expressão, a pilha deve estar vazia. Neste caso, relate sucesso para o balenceamento de parênteses. Caso contrário (pilha não vazia no final), relate desbalaceamento.\n",
        "\n",
        "Para cumprir o objetivo deste projeto, siga as instruções abaixo.\n",
        "\n"
      ]
    },
    {
      "cell_type": "markdown",
      "metadata": {
        "id": "oN_NP8iKNxUF"
      },
      "source": [
        "## Implementação da Solução\n",
        "Estruture o programa em duas funções: `main()` e `analise_parenteses(expressao)`. A função `main` deve ler as expressões de entrada a serem analisadas. Para cada expressão lida, chame a função `analise_parenteses(expr)` em que `expr` é a última expressão lida. Para terminar a entrada de expressões, o usuário deve entrar com um *string* vazio. Além disso, para cada expressão lida, a função `main` deve imprimir a expressão seguida de uma mensagem de OK (expressão com parentetização balanceada) ou de ERRADO (expressão com parentetização desbalanceada). Veja abaixo no Exemplo de Teste do Programa como deve ser exatamente a saída para cada caso.\n",
        "\n",
        "A função `analise_parenteses(expressao)` segue o algoritmo esboçado acima. Considere que a função vai ser booleana: retorna verdadeiro (`True`), se o balanceamento de parênteses de `expressao` estiver ok. Caso contrário, ela retorna falso (`False`)."
      ]
    },
    {
      "cell_type": "markdown",
      "metadata": {
        "id": "aW6N8B7fRAPy"
      },
      "source": [
        "O código em Python para a função `main` segue abaixo:"
      ]
    },
    {
      "cell_type": "code",
      "metadata": {
        "id": "l4BT9csyyL-t"
      },
      "source": [
        "# Ponha aqui o código da função main.\n",
        "def main():\n",
        "    while True:\n",
        "        expressao = input('Digite uma expressão com parênteses (ENTER para terminar): ')\n",
        "        if expressao == '' :\n",
        "            break\n",
        "        else:\n",
        "            is_ok = analise_parenteses(expressao)\n",
        "            print('%s está %s' %(expressao, 'Ok' if is_ok == True else 'ERRADO'))"
      ],
      "execution_count": 15,
      "outputs": []
    },
    {
      "cell_type": "markdown",
      "metadata": {
        "id": "Cts6RqB2RW1A"
      },
      "source": [
        "A função `analise_parenteses(expressao)` vem abaixo:"
      ]
    },
    {
      "cell_type": "code",
      "metadata": {
        "id": "3WebMnExRpSY"
      },
      "source": [
        "# Ponha aqui a implementação da função analise_parenteses. Não se esqueça de\n",
        "# seu retorno.\n",
        "def analise_parenteses(expressao):\n",
        "    L = []\n",
        "    for i in expressao:\n",
        "        if i == '(':\n",
        "            L.append(i)\n",
        "        elif i == ')':\n",
        "            if len(L) == 0:\n",
        "                return False\n",
        "            else:\n",
        "                L.pop(-1)\n",
        "\n",
        "    if len(L) == 0:\n",
        "        return True\n",
        "    else:\n",
        "        return False"
      ],
      "execution_count": 21,
      "outputs": []
    },
    {
      "cell_type": "markdown",
      "metadata": {
        "id": "t8L5LBuaR_Ee"
      },
      "source": [
        "Não se esqueça de chamar a função `main` para desencadear a execução de todo o processo."
      ]
    },
    {
      "cell_type": "code",
      "metadata": {
        "id": "fCmzdW70SOYc",
        "colab": {
          "base_uri": "https://localhost:8080/"
        },
        "outputId": "2af200fb-059a-45c3-ca64-8921ddecc10b"
      },
      "source": [
        "main()"
      ],
      "execution_count": 22,
      "outputs": [
        {
          "output_type": "stream",
          "text": [
            "Digite uma expressão com parênteses (ENTER para terminar): (a + b)\n",
            "(a + b) está Ok\n",
            "Digite uma expressão com parênteses (ENTER para terminar): (A + (B - C))\n",
            "(A + (B - C)) está Ok\n",
            "Digite uma expressão com parênteses (ENTER para terminar): (x + y)*(x - 2)(\n",
            "(x + y)*(x - 2)( está ERRADO\n",
            "Digite uma expressão com parênteses (ENTER para terminar): (x + y)*(x - 2)/((w - z)**(A + B))\n",
            "(x + y)*(x - 2)/((w - z)**(A + B)) está Ok\n",
            "Digite uma expressão com parênteses (ENTER para terminar): (area - 4.5)\n",
            "(area - 4.5) está Ok\n",
            "Digite uma expressão com parênteses (ENTER para terminar): (area - 4.5))\n",
            "(area - 4.5)) está ERRADO\n",
            "Digite uma expressão com parênteses (ENTER para terminar): ((area + 10)\n",
            "((area + 10) está ERRADO\n",
            "Digite uma expressão com parênteses (ENTER para terminar): \n"
          ],
          "name": "stdout"
        }
      ]
    },
    {
      "cell_type": "markdown",
      "metadata": {
        "id": "2Ag5GdHLSSPD"
      },
      "source": [
        "## Exemplo de Teste do Programa\n",
        "\n",
        "\n",
        "---\n",
        "\n",
        "```\n",
        "Digite uma expressão com parênteses (ENTER para terminar): (a + b)\n",
        "(a + b) está OK\n",
        "Digite uma expressão com parênteses (ENTER para terminar): (A + (B - C))\n",
        "(A + (B - C)) está OK\n",
        "Digite uma expressão com parênteses (ENTER para terminar): (x + y)*(x - 2)(\n",
        "(x + y)*(x - 2)( está ERRADO\n",
        "Digite uma expressão com parênteses (ENTER para terminar): (x + y)*(x - 2)/((w - z)**(A + B))\n",
        "(x + y)*(x - 2)/((w - z)**(A + B)) está OK\n",
        "Digite uma expressão com parênteses (ENTER para terminar): (area - 4.5)\n",
        "(area - 4.5) está OK\n",
        "Digite uma expressão com parênteses (ENTER para terminar): (area - 4.5))\n",
        "(area - 4.5)) está ERRADO\n",
        "Digite uma expressão com parênteses (ENTER para terminar): ((area + 10)\n",
        "((area + 10) está ERRADO\n",
        "Digite uma expressão com parênteses (ENTER para terminar):\n",
        "```\n",
        "\n",
        "\n",
        "---\n",
        "\n",
        "\n"
      ]
    }
  ]
}