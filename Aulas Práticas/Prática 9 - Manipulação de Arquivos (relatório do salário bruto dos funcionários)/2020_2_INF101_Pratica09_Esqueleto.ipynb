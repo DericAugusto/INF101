{
  "nbformat": 4,
  "nbformat_minor": 0,
  "metadata": {
    "colab": {
      "name": "2020-2-INF101-Pratica09-Esqueleto.ipynb",
      "provenance": [],
      "collapsed_sections": []
    },
    "kernelspec": {
      "display_name": "Python 3",
      "name": "python3"
    }
  },
  "cells": [
    {
      "cell_type": "markdown",
      "metadata": {
        "id": "TjcMDLudY7rv"
      },
      "source": [
        "INF101 - Introdução à Programação II  \n",
        "2020/PER-2  \n",
        "**Prática 09 Arquivos - 2 pontos**  \n",
        "\n",
        "---\n",
        "- Nome: Michel Melo da Silva (michel.m.silva@ufv.br)  \n",
        "- Data: 06/04/2021  \n",
        "- Atualização: 06/04/2021 \n",
        "---"
      ]
    },
    {
      "cell_type": "markdown",
      "metadata": {
        "id": "jhhXSLg5Zyvi"
      },
      "source": [
        "## Descrição do programa:\n",
        "\n",
        "*Insira a descrição aqui*."
      ]
    },
    {
      "cell_type": "markdown",
      "metadata": {
        "id": "FSUHIYXzXPgg"
      },
      "source": [
        "# Baixando os arquivos\n",
        "\n",
        "Você só precisa executar essa célula uma vez."
      ]
    },
    {
      "cell_type": "code",
      "metadata": {
        "id": "n0G3MHGVFJrz",
        "colab": {
          "base_uri": "https://localhost:8080/"
        },
        "outputId": "0e4c4328-1b35-4703-9b6e-47ac098e6863"
      },
      "source": [
        "!pip install wget\n",
        "import wget\n",
        "url = 'http://linux-server.lbi.ufv.br/arquivos/roteiros/409/pratica-09-1188.csv'\n",
        "filename = wget.download(url, 'funcionarios.csv')\n",
        "\n",
        "url = 'http://linux-server.lbi.ufv.br/arquivos/roteiros/409/pratica-09-1189.dat'\n",
        "filename = wget.download(url, 'horas_trab.dat')"
      ],
      "execution_count": null,
      "outputs": [
        {
          "output_type": "stream",
          "text": [
            "Requirement already satisfied: wget in /usr/local/lib/python3.7/dist-packages (3.2)\n"
          ],
          "name": "stdout"
        }
      ]
    },
    {
      "cell_type": "markdown",
      "metadata": {
        "id": "ZaFoh972HEUJ"
      },
      "source": [
        "# Solução da prática\n",
        "\n",
        "Implemente a funções a seguir:\n",
        "\n",
        "função leiaFunc com o parâmetro `nomeArq`:  \n",
        "Abre o arquivo no formato csv contendo os dados dos funcionários: `matr, nome, cargo, salPorHora`. Gera o banco de dados dos funcionarios  armazenando-o em uma lista de tuplas.\n",
        "    "
      ]
    },
    {
      "cell_type": "code",
      "metadata": {
        "id": "WhLrJb-4HKbw"
      },
      "source": [
        "def leiaFunc(nomeArq):\n",
        "    # Abre o arquivo no formato csv contendo os dados dos funcionários:\n",
        "    # matr,nome,cargo,salPorHora\n",
        "    arqFuncs = open(nomeArq, 'r')\n",
        "\n",
        "    # Gera o banco de dados dos funcionarios armazenando-o em uma lista\n",
        "    # de tuplas.\n",
        "    bd = []\n",
        "    linha = arqFuncs.readline().rstrip('\\n')\n",
        "    while linha != '':\n",
        "        dados = linha.split(',')\n",
        "        #print(dados)\n",
        "        matr = int(dados[0])\n",
        "        nome = dados[1]\n",
        "        cargo = dados[2]\n",
        "        salPorHora = float(dados[3])\n",
        "        bd.append((matr, nome, cargo, salPorHora))\n",
        "        linha = arqFuncs.readline().rstrip('\\n')\n",
        "    arqFuncs.close()\n",
        "    return bd"
      ],
      "execution_count": null,
      "outputs": []
    },
    {
      "cell_type": "markdown",
      "metadata": {
        "id": "20PEtqV_Wuwe"
      },
      "source": [
        "Função calcSalBruto com os parâmetros `nomeArq, funcs`:  \n",
        "Abre o arquivo contendo as horas trabalhadas regulares e extras de cada funcionário conforme a ordem em que os funcionários se encontram no arquivo csv na função leiaFunc. Gera a lista dos salarios brutos dos funcionários."
      ]
    },
    {
      "cell_type": "code",
      "metadata": {
        "id": "fv_xIy9qHYoh"
      },
      "source": [
        ""
      ],
      "execution_count": null,
      "outputs": []
    },
    {
      "cell_type": "markdown",
      "metadata": {
        "id": "eCeQAIuXG7fE"
      },
      "source": [
        "# Função Main\n",
        "\n",
        "Não é necessário modificar essa função."
      ]
    },
    {
      "cell_type": "code",
      "metadata": {
        "id": "oyz15u6yExDh"
      },
      "source": [
        "def main():\n",
        "    funcionarios = leiaFunc('funcionarios.csv')\n",
        "    salariosBrutos = calcSalBruto('horas_trab.dat', funcionarios)\n",
        "\n",
        "    # Imprime relatório dos salários brutos de todos os funcionários.\n",
        "    print(\"\\n***     Relatório dos Salários Brutos     ***\"\n",
        "          \"\\nMatrícula         Nome          Salário Bruto\")\n",
        "    for i in range(len(funcionarios)):\n",
        "        print(\"%7d    %-20s    %8.2f\" % (funcionarios[i][0],\n",
        "                                         funcionarios[i][1],\n",
        "                                         salariosBrutos[i]))"
      ],
      "execution_count": null,
      "outputs": []
    },
    {
      "cell_type": "markdown",
      "metadata": {
        "id": "4YahvDUtILB0"
      },
      "source": [
        "## Teste\n",
        "\n",
        "Após implementar a sua solução e executar as células acima, execute a célula a seguir."
      ]
    },
    {
      "cell_type": "code",
      "metadata": {
        "id": "BHCSXPfPExce"
      },
      "source": [
        "main()"
      ],
      "execution_count": null,
      "outputs": []
    }
  ]
}