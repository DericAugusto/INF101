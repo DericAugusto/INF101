{
  "nbformat": 4,
  "nbformat_minor": 0,
  "metadata": {
    "colab": {
      "name": "p02.ipynb",
      "provenance": [],
      "collapsed_sections": [],
      "toc_visible": true
    },
    "kernelspec": {
      "display_name": "Python 3",
      "name": "python3",
      "language": "python"
    }
  },
  "cells": [
    {
      "cell_type": "markdown",
      "metadata": {
        "id": "TjcMDLudY7rv"
      },
      "source": [
        "INF101 - Introdução à Programação II  \n",
        "2020/PER-2  \n",
        "**Prática 02 - 2 pontos**  \n",
        "\n",
        "---\n",
        "- Nome: *Déric Augusto França de Sales (deric.sales@ufv.br)*\n",
        "- Matrícula: *96718*\n",
        "- Data: *11/02/2021*\n",
        "- Atualização: *11/02/2021*\n",
        "---\n",
        "\n",
        "**Atenção:** Se você optar por entregar a solução do exercício prático por meio deste Colab Notebook, terá de:\n",
        "\n",
        "1.   Baixar o Notebook para seu Drive particular. Para tanto, vá ao menu 'Arquivo' acima e clique o submenu 'Salvar uma cópia no Drive'.\n",
        "2.   Ao final da elaboração do exercício, faça o download para sua\n",
        "máquina do arquivo `.ipynb` usando o menu acima 'Arquivo -> Fazer o download do .ipynb'. Em sua máquina, renomeie o arquivo baixado para `p02.ipynb`. Então entregue esse arquivo assim renomeado usando o Sistema de Entrega do LBI."
      ]
    },
    {
      "cell_type": "markdown",
      "metadata": {
        "id": "jhhXSLg5Zyvi"
      },
      "source": [
        "## Descrição do programa:\n",
        "\n",
        "*Este programa lê uma lista de notas escolares, coleta seus valores e imprime os dados de quantas notas foram lidas, sua média e desvio padão e a maior e menor nota. Para tal o programa faz uso de funções que realizam os cálculos necessários.*"
      ]
    },
    {
      "cell_type": "markdown",
      "metadata": {
        "id": "FSUHIYXzXPgg"
      },
      "source": [
        "# Baixando o arquivo\n",
        "\n",
        "Você só precisa executar esta célula uma vez."
      ]
    },
    {
      "cell_type": "code",
      "metadata": {
        "id": "n0G3MHGVFJrz",
        "colab": {
          "base_uri": "https://localhost:8080/"
        },
        "outputId": "d1a48ece-d144-4756-d838-e1c6aacd3528"
      },
      "source": [
        "!pip install wget\n",
        "import wget\n",
        "import math\n",
        "url = 'http://linux-server.lbi.ufv.br/arquivos/roteiros/394/pratica-02-1146.dat'\n",
        "filename = wget.download(url, 'notas_inf100.dat')"
      ],
      "execution_count": 5,
      "outputs": [
        {
          "output_type": "stream",
          "name": "stdout",
          "text": [
            "Collecting wget\n",
            "  Downloading wget-3.2.zip (10 kB)\n",
            "Using legacy 'setup.py install' for wget, since package 'wheel' is not installed.\n",
            "Installing collected packages: wget\n",
            "    Running setup.py install for wget: started\n",
            "    Running setup.py install for wget: finished with status 'done'\n",
            "Successfully installed wget-3.2\n",
            "WARNING: You are using pip version 20.2.4; however, version 21.0.1 is available.\n",
            "You should consider upgrading via the 'c:\\software languanges\\python\\python.exe -m pip install --upgrade pip' command.\n"
          ]
        }
      ]
    },
    {
      "cell_type": "markdown",
      "metadata": {
        "id": "ZaFoh972HEUJ"
      },
      "source": [
        "# Solução da prática\n",
        "\n",
        "Implemente as funções a seguir."
      ]
    },
    {
      "cell_type": "code",
      "metadata": {
        "id": "WhLrJb-4HKbw"
      },
      "source": [
        "# Função para calcular e retornar a média de valores em um arranjo\n",
        "def media( valores ) : \n",
        "  # Checa se o conjunto é vazio evitando divisão por 0\n",
        "  n = len(valores)\n",
        "  if n == 0: \n",
        "    return None\n",
        "\n",
        "  soma = 0\n",
        "  for i in range(n):\n",
        "    soma += valores[i]\n",
        "\n",
        "  media = soma/len(valores)\n",
        "  return media"
      ],
      "execution_count": 6,
      "outputs": []
    },
    {
      "cell_type": "code",
      "metadata": {
        "id": "fv_xIy9qHYoh"
      },
      "source": [
        "# Função para calcular e retornar o desvio padrão de valores em um arranjo\n",
        "def desvioPad( valores ):\n",
        "\n",
        "  mediaValores = media(valores)\n",
        "  quantidadeValores = len(valores)\n",
        "\n",
        "  a=0\n",
        "  for i in range(quantidadeValores):\n",
        "    a += (valores[i] - mediaValores)**2\n",
        "\n",
        "  variancia = a/(quantidadeValores-1)\n",
        "  desvioP = math.sqrt(variancia)\n",
        "\n",
        "  return desvioP"
      ],
      "execution_count": 7,
      "outputs": []
    },
    {
      "cell_type": "code",
      "metadata": {
        "id": "vsPNif6KHZMq"
      },
      "source": [
        "# Função para calcular e retornar o valor máximo em um arranjo\r\n",
        "def maximo( valores ):\r\n",
        "\r\n",
        "  maiorValor = valores[0]\r\n",
        "  for i in range(1,len(valores)):\r\n",
        "    if valores[i] > maiorValor:\r\n",
        "      maiorValor = valores[i]\r\n",
        "      \r\n",
        "  return maiorValor"
      ],
      "execution_count": 8,
      "outputs": []
    },
    {
      "cell_type": "code",
      "metadata": {
        "id": "wKRiqPWBHoH-"
      },
      "source": [
        "# Função para calcular e retornar o valor mínimo em um arranjo\r\n",
        "def minimo( valores ):\r\n",
        "\r\n",
        "  menorValor = valores[0]\r\n",
        "  for i in range(1,len(valores)):\r\n",
        "    if valores[i] < menorValor:\r\n",
        "      menorValor = valores[i]\r\n",
        "      \r\n",
        "  return menorValor"
      ],
      "execution_count": 9,
      "outputs": []
    },
    {
      "cell_type": "markdown",
      "metadata": {
        "id": "eCeQAIuXG7fE"
      },
      "source": [
        "# Função Main\n",
        "\n",
        "Não é necessário nem se deve modificar esta função."
      ]
    },
    {
      "cell_type": "code",
      "metadata": {
        "id": "oyz15u6yExDh"
      },
      "source": [
        "import math\n",
        "import numpy as np\n",
        "\n",
        "def main():\n",
        "    nomeArq  = 'notas_inf100.dat'\n",
        "    arqNotas = open(nomeArq, 'r')\n",
        "    linhas = arqNotas.read().split('\\n')\n",
        "\n",
        "    notas = np.array(list(map(float, linhas)))\n",
        "\n",
        "    print('%d notas lidas.' % len(linhas))\n",
        "    print()\n",
        "    print('Média das notas:         %5.1f' % media(notas))\n",
        "    print('Desvio padrão das notas: %5.1f' % desvioPad(notas))\n",
        "    print('Maior nota:              %5.1f' % maximo(notas))\n",
        "    print('Menor nota:              %5.1f' % minimo(notas))   "
      ],
      "execution_count": 10,
      "outputs": []
    },
    {
      "cell_type": "markdown",
      "metadata": {
        "id": "4YahvDUtILB0"
      },
      "source": [
        "## Teste\n",
        "\n",
        "Após implementar a sua solução e executar as células acima, execute a célula a seguir."
      ]
    },
    {
      "cell_type": "code",
      "metadata": {
        "id": "BHCSXPfPExce",
        "colab": {
          "base_uri": "https://localhost:8080/"
        },
        "outputId": "c1f67564-d37c-4269-b4bd-77126726e9a7"
      },
      "source": [
        "main()"
      ],
      "execution_count": 11,
      "outputs": [
        {
          "output_type": "stream",
          "name": "stdout",
          "text": [
            "12 notas lidas.\n\nMédia das notas:          59.5\nDesvio padrão das notas:  23.0\nMaior nota:               91.0\nMenor nota:               25.0\n"
          ]
        }
      ]
    },
    {
      "cell_type": "markdown",
      "metadata": {
        "id": "_GLtcQ4fRGUK"
      },
      "source": [
        "Os resultados devem ser estes ao usar o arquivo de dados sugerido acima (`notas_inf100.dat`):\n",
        "```\n",
        "12 notas lidas.\n",
        "\n",
        "Média das notas:          59.5\n",
        "Desvio padrão das notas:  23.0\n",
        "Maior nota:               91.0\n",
        "Menor nota:               25.0\n",
        "```"
      ]
    }
  ]
}