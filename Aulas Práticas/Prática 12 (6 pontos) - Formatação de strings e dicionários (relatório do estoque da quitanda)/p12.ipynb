{
  "nbformat": 4,
  "nbformat_minor": 0,
  "metadata": {
    "colab": {
      "name": "p12.ipynb",
      "provenance": [],
      "collapsed_sections": []
    },
    "kernelspec": {
      "name": "python3",
      "display_name": "Python 3"
    },
    "language_info": {
      "name": "python"
    }
  },
  "cells": [
    {
      "cell_type": "markdown",
      "metadata": {
        "id": "BKFwkTBklyPq"
      },
      "source": [
        "INF101 - Introdução à Programação II  \n",
        "2020/PER-2  \n",
        "**Prática 12: Arquivos e Dicionários - 6 pontos**  \n",
        "\n",
        "---\n",
        "- Nome: Déric Augusto França de Sales (deric.sales@ufv.br)  \n",
        "- Data: 29/04/2021  \n",
        "- Atualização: 29/04/2021 \n",
        "---"
      ]
    },
    {
      "cell_type": "markdown",
      "metadata": {
        "id": "ft0iZjW8nZgQ"
      },
      "source": [
        "## Descrição do programa:\n",
        "\n",
        "*Este programa imprime o relatório do estoque de uma quitanda, disponibilizando os produtos em ordem alfabética com seus respectivos preços e quantidades.*"
      ]
    },
    {
      "cell_type": "markdown",
      "metadata": {
        "id": "K5rclcrengzR"
      },
      "source": [
        "### Dados Iniciais:"
      ]
    },
    {
      "cell_type": "code",
      "metadata": {
        "id": "OvuFXQHCmBFc"
      },
      "source": [
        "# O estoque é dado por:\n",
        "# chaves = 'produtos' e \n",
        "# valores = [quantidade do produto no estoque, preço do produto]\n",
        "\n",
        "estoque = { 'tomate': [1000, 2.30],\n",
        "            'alface': [500, 0.45],\n",
        "            'batata': [2150, 1.20],\n",
        "            'feijão': [100, 5.50] }"
      ],
      "execution_count": 2,
      "outputs": []
    },
    {
      "cell_type": "markdown",
      "metadata": {
        "id": "9OGQorpWnocD"
      },
      "source": [
        "### Funções:"
      ]
    },
    {
      "cell_type": "code",
      "metadata": {
        "id": "ezY8gSaQoYr2"
      },
      "source": [
        "def calculaValorTotal(estoque):\n",
        "  valorTotalEstoque = 0\n",
        "  for produto in estoque.keys():\n",
        "    valorTotalEstoque += estoque[produto][0]*estoque[produto][1]\n",
        "  return valorTotalEstoque"
      ],
      "execution_count": 6,
      "outputs": []
    },
    {
      "cell_type": "markdown",
      "metadata": {
        "id": "uQMqYcKrnyTA"
      },
      "source": [
        "### Função Main:"
      ]
    },
    {
      "cell_type": "code",
      "metadata": {
        "id": "a_3abJghogsE"
      },
      "source": [
        "def main():\n",
        "\n",
        "  estoque = { 'tomate': [1000, 2.30],\n",
        "            'alface': [500, 0.45],\n",
        "            'batata': [2150, 1.20],\n",
        "            'feijão': [100, 5.50] }\n",
        "\n",
        "  estoque['batata'][0] -= 60\n",
        "\n",
        "  # Impressão do relatório\n",
        "  largura = 35\n",
        "  print( 'Estoque da Quitanda'.center(largura), end = '\\n\\n' )\n",
        "  print( '{:<15}{:^6}{:>13}'.format('Produto', 'Preço', 'Quantidade'))\n",
        "\n",
        "  # Imprimindo dados dos produtos em ordem alfabética\n",
        "  ordemAlfabetica = sorted( list( estoque.keys() ) )\n",
        "  for produto in ordemAlfabetica:\n",
        "    preco = estoque[produto][1]\n",
        "    quantidade = estoque[produto][0]\n",
        "    print( '{:<15}{:<0.2f}{:>13}'.format(produto, preco, quantidade))\n",
        "  \n",
        "  # Imprimindo valor total do estoque\n",
        "  print('\\nValor total do estoque:\\t{:0.2f}'\n",
        "         .format( calculaValorTotal(estoque) ) )"
      ],
      "execution_count": 128,
      "outputs": []
    },
    {
      "cell_type": "markdown",
      "metadata": {
        "id": "tpuIv4X8n3vd"
      },
      "source": [
        "### Teste:"
      ]
    },
    {
      "cell_type": "code",
      "metadata": {
        "colab": {
          "base_uri": "https://localhost:8080/"
        },
        "id": "Nul7sBAaoj3a",
        "outputId": "da2ff653-ab30-4988-cfb9-3f7c4f293ed7"
      },
      "source": [
        "main()"
      ],
      "execution_count": 129,
      "outputs": [
        {
          "output_type": "stream",
          "text": [
            "        Estoque da Quitanda        \n",
            "\n",
            "Produto        Preço    Quantidade\n",
            "alface         0.45          500\n",
            "batata         1.20         2090\n",
            "feijão         5.50          100\n",
            "tomate         2.30         1000\n",
            "\n",
            "Valor total do estoque:\t5583.00\n"
          ],
          "name": "stdout"
        }
      ]
    }
  ]
}