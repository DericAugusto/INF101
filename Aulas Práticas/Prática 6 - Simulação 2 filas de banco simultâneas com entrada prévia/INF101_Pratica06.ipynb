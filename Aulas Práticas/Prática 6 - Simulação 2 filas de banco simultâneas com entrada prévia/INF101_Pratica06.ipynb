{
  "nbformat": 4,
  "nbformat_minor": 0,
  "metadata": {
    "colab": {
      "name": "INF101_Pratica06.ipynb",
      "provenance": []
    },
    "kernelspec": {
      "name": "python3",
      "display_name": "Python 3"
    }
  },
  "cells": [
    {
      "cell_type": "code",
      "metadata": {
        "id": "qtfe0MQiLcEV"
      },
      "source": [
        ""
      ],
      "execution_count": null,
      "outputs": []
    },
    {
      "cell_type": "markdown",
      "metadata": {
        "id": "qRUiZfYg9BGX"
      },
      "source": [
        "# Prática 06 de INF101 – 2020/PER2\n",
        "\n",
        "\n",
        "*   Autor: *(coloque aqui seu nome completo)*\n",
        "*   Matrícula: *(coloque seu nº de matrícula)*\n",
        "*   E-mail: *(coloque aqui seu endereço de e-mail)*\n",
        "*   Data de criação: *(coloque a data de hoje)*\n",
        "*   Data da atualização: *(coloque aqui a data da última atualização do projeto)*\n",
        "*  *(Descreva sucintamente o que o programa faz.)*\n"
      ]
    },
    {
      "cell_type": "markdown",
      "metadata": {
        "id": "AaYg3qGT-gO7"
      },
      "source": [
        "# Simulação de Duas Filas em um Banco\n",
        "O objetivo principal desta prática é familiarizar-se com o uso da estrutura de dados *fila*. Uma fila pode ser manipulada diretamente pela linguagem Python por meio do uso de lista que mantenha a política FIFO. Vamos considerar duas filas em vez de apenas uma como visto em aula teórica. Vamos considerar os seguintes códigos para as operações com as duas filas:\n",
        "\n",
        "*   A – atendimento da fila 1\n",
        "*   B – atendimento da fila 2\n",
        "*   F – chegada de um cliente na fila 1\n",
        "*   G – chegada de um cliente na fila 2\n",
        "*   S – término da simulação\n",
        "\n",
        "Outra modificação que faremos é a possibilidade de trabalhar com várias operações digitadas uma única vez por meio de seus códigos. No código apresentado na aula teórica, apenas uma operação era lida de cada vez. Agora leia todas as operações como uma cadeia de caracteres (*string*). Por exemplo, a cadeia FFGBBBAS significa duas chegadas de novos clientes na fila 1 e uma chegada na fila 2, três atendimentos da fila 2 e um da fila 1, e, finalmente, a saída da simulação.\n",
        "\n"
      ]
    },
    {
      "cell_type": "markdown",
      "metadata": {
        "id": "ONTQLPULDI-v"
      },
      "source": [
        "## Solução dada em aula teórica\n",
        "Para referência, apresentamos abaixo o código visto em aula teórica:"
      ]
    },
    {
      "cell_type": "code",
      "metadata": {
        "colab": {
          "base_uri": "https://localhost:8080/"
        },
        "id": "xrRvICrH80hn",
        "outputId": "777d04ba-8061-4eb2-fc2a-2eedc9cca947"
      },
      "source": [
        "ultimo = 10\n",
        "fila = list(range(1, ultimo+1))\n",
        "while True:\n",
        "   print(\"\\nExistem %d clientes na fila.\" % len(fila))\n",
        "   print(\"Fila atual:\", fila)\n",
        "   print(\"\\nDigite F para adicionar um cliente ao fim da fila,\")\n",
        "   print(\"ou A para realizar o atendimento. S para sair.\")\n",
        "   operacao = input(\"Operação (F, A, ou S): \").upper()\n",
        "   if operacao == \"A\":\n",
        "      if len(fila) > 0:\n",
        "         atendido = fila.pop(0)\n",
        "         print(\"Cliente %d atendido.\" % atendido)\n",
        "      else:\n",
        "         print(\"Fila vazia! Ninguém para atender.\")\n",
        "   elif operacao == \"F\":\n",
        "      ultimo = ultimo + 1 # incrementa o tíquete para novo cliente\n",
        "      fila.append(ultimo)\n",
        "   elif operacao == \"S\":\n",
        "      break\n",
        "   else:\n",
        "      print(\"Operação inválida! Digite apenas F, A ou S.\")\n"
      ],
      "execution_count": null,
      "outputs": [
        {
          "output_type": "stream",
          "text": [
            "\n",
            "Existem 10 clientes na fila.\n",
            "Fila atual: [1, 2, 3, 4, 5, 6, 7, 8, 9, 10]\n",
            "\n",
            "Digite F para adicionar um cliente ao fim da fila,\n",
            "ou A para realizar o atendimento. S para sair.\n",
            "Operação (F, A, ou S): F\n",
            "\n",
            "Existem 11 clientes na fila.\n",
            "Fila atual: [1, 2, 3, 4, 5, 6, 7, 8, 9, 10, 11]\n",
            "\n",
            "Digite F para adicionar um cliente ao fim da fila,\n",
            "ou A para realizar o atendimento. S para sair.\n",
            "Operação (F, A, ou S): F\n",
            "\n",
            "Existem 12 clientes na fila.\n",
            "Fila atual: [1, 2, 3, 4, 5, 6, 7, 8, 9, 10, 11, 12]\n",
            "\n",
            "Digite F para adicionar um cliente ao fim da fila,\n",
            "ou A para realizar o atendimento. S para sair.\n",
            "Operação (F, A, ou S): A\n",
            "Cliente 1 atendido.\n",
            "\n",
            "Existem 11 clientes na fila.\n",
            "Fila atual: [2, 3, 4, 5, 6, 7, 8, 9, 10, 11, 12]\n",
            "\n",
            "Digite F para adicionar um cliente ao fim da fila,\n",
            "ou A para realizar o atendimento. S para sair.\n",
            "Operação (F, A, ou S): AA\n",
            "Operação inválida! Digite apenas F, A ou S.\n",
            "\n",
            "Existem 11 clientes na fila.\n",
            "Fila atual: [2, 3, 4, 5, 6, 7, 8, 9, 10, 11, 12]\n",
            "\n",
            "Digite F para adicionar um cliente ao fim da fila,\n",
            "ou A para realizar o atendimento. S para sair.\n",
            "Operação (F, A, ou S): A\n",
            "Cliente 2 atendido.\n",
            "\n",
            "Existem 10 clientes na fila.\n",
            "Fila atual: [3, 4, 5, 6, 7, 8, 9, 10, 11, 12]\n",
            "\n",
            "Digite F para adicionar um cliente ao fim da fila,\n",
            "ou A para realizar o atendimento. S para sair.\n",
            "Operação (F, A, ou S): A\n",
            "Cliente 3 atendido.\n",
            "\n",
            "Existem 9 clientes na fila.\n",
            "Fila atual: [4, 5, 6, 7, 8, 9, 10, 11, 12]\n",
            "\n",
            "Digite F para adicionar um cliente ao fim da fila,\n",
            "ou A para realizar o atendimento. S para sair.\n",
            "Operação (F, A, ou S): S\n"
          ],
          "name": "stdout"
        }
      ]
    },
    {
      "cell_type": "markdown",
      "metadata": {
        "id": "twyTQUhCErrn"
      },
      "source": [
        "## Refinamento da solução\n",
        "Vamos estruturar melhor a solução considerando os acréscimos pedidos acima. A leitura da cadeia de entrada com as operações a ser realizadas nas duas filas será implementada pela função `leiaOperacoes()` que retornará a cadeia lida. A simulação em si será implementada pela função `simule(n, opers)` em que o parâmetro `n` conterá o número inicial de clientes que deverão ser distribuídos equitativamente pela duas filas. Se `n` for ímpar, a primeira fila ficará com um cliente a menos do que a segunda. O parâmetro `opers` conterá a cadeia dos códigos das operações a ser realizadas nesta simulação.\n",
        "### Sugestão\n",
        "Em Python, pode-se percorrer uma cadeia de caracteres usando o comando `for`. Por exemplo, podemos iterar por cada operação armazenada na cadeia `opers` da seguinte maneira:\n",
        "\n",
        "\n",
        "> \n",
        "```\n",
        "for operacao in opers:\n",
        "    ...\n",
        "```\n",
        "\n",
        "Podemos portanto usar este `for` em vez do comando `while True` acima na linha 3."
      ]
    },
    {
      "cell_type": "markdown",
      "metadata": {
        "id": "9ESYPdLlJcl0"
      },
      "source": [
        "# Implementação da solução\n",
        "Estruture seu programa em três funções: `main()`, `leiaOperacoes()` e `simule(n, opers)`.\n",
        "\n",
        "A função `main()` pode ser bem simples: emita uma mensagem sobre o programa. Veja no exemplo de teste abaixo qual mensagem deverá ser exatamente. Em seguida, peça ao usuário digitar quantos clientes serão alocados inicialmente nas duas filas. Depois chame a função `leiaOperacoes()` e, finalmente, a função `simule(n, opers)` em que `n` é o número inicial de clientes e `opers` é a cadeia contendo os códigos das operações a ser feitas nas filas. O argumento `opers` deve ser o retorno da função `leiaOperacoes()`.\n",
        "### Observação\n",
        "A função `main` poderia ser mais elaborada. Por exemplo, ela poderia controlar o término da simulação de fato ao encontrar-se um código S na cadeia de entrada. Se não encontrasse, pediria ao usuário que entrasse com nova cadeia de operações até que se encontrasse o código S na entrada. Mas, nesta prática, não é necessário sofisticar a função `main`. O objetivo dela é controlar apenas uma bateria de testes de operações com as filas.\n"
      ]
    },
    {
      "cell_type": "markdown",
      "metadata": {
        "id": "-yKIJH61N7Kk"
      },
      "source": [
        "A função `main` encontra-se abaixo:"
      ]
    },
    {
      "cell_type": "code",
      "metadata": {
        "id": "vqd1V4rvOZKC"
      },
      "source": [
        "# Coloque aqui o código da função main.\n"
      ],
      "execution_count": null,
      "outputs": []
    },
    {
      "cell_type": "markdown",
      "metadata": {
        "id": "WVk0wR2qOkKC"
      },
      "source": [
        "A função `leiaOperacoes()` vem a seguir:"
      ]
    },
    {
      "cell_type": "code",
      "metadata": {
        "id": "pJox6F6SO21D"
      },
      "source": [
        "# Implemente aqui a função leiaOperacoes. Não se esqueça de seu retorno.\n"
      ],
      "execution_count": null,
      "outputs": []
    },
    {
      "cell_type": "markdown",
      "metadata": {
        "id": "vieJzHKlPHQ5"
      },
      "source": [
        "O código mais importante desta prática, a função `simule(n, opers)`, encontra-se abaixo:"
      ]
    },
    {
      "cell_type": "code",
      "metadata": {
        "id": "zHAAMWAiPb5K"
      },
      "source": [
        "# Implemente aqui a função simule.\n"
      ],
      "execution_count": null,
      "outputs": []
    },
    {
      "cell_type": "markdown",
      "metadata": {
        "id": "U0vc4H3FPkCg"
      },
      "source": [
        "NÃO se esqueça de chamar a função `main` para desencadear todo o processo de execução do seu programa."
      ]
    },
    {
      "cell_type": "code",
      "metadata": {
        "id": "aMnE9J49QIIO"
      },
      "source": [
        "\n"
      ],
      "execution_count": null,
      "outputs": []
    },
    {
      "cell_type": "markdown",
      "metadata": {
        "id": "4yRG47BUQPoy"
      },
      "source": [
        "## Exemplo de teste\n",
        "\n",
        "\n",
        "---\n",
        "\n",
        "\n",
        "```\n",
        "Simulação de duas filas de banco\n",
        "Quantos clientes serão inicialmente? 11\n",
        "\n",
        "Digite a sequência de operações a ser feitas:\n",
        "F para adicionar um cliente na fila 1\n",
        "G para adicionar um cliente na fila 2\n",
        "A para atender cliente na fila 1\n",
        "B para atender cliente na fila 2\n",
        "S para sair da simulação\n",
        "aBfGdbS\n",
        "\n",
        "Existem 5 clientes na fila 1.\n",
        "Fila 1 atual: [1, 2, 3, 4, 5]\n",
        "Existem 6 clientes na fila 2.\n",
        "Fila 2 atual: [6, 7, 8, 9, 10, 11]\n",
        "\n",
        "==> Operação: A\n",
        "Cliente 1 atendido.\n",
        "\n",
        "Existem 4 clientes na fila 1.\n",
        "Fila 1 atual: [2, 3, 4, 5]\n",
        "Existem 6 clientes na fila 2.\n",
        "Fila 2 atual: [6, 7, 8, 9, 10, 11]\n",
        "\n",
        "==> Operação: B\n",
        "Cliente 6 atendido.\n",
        "\n",
        "Existem 4 clientes na fila 1.\n",
        "Fila 1 atual: [2, 3, 4, 5]\n",
        "Existem 5 clientes na fila 2.\n",
        "Fila 2 atual: [7, 8, 9, 10, 11]\n",
        "\n",
        "==> Operação: F\n",
        "\n",
        "Existem 5 clientes na fila 1.\n",
        "Fila 1 atual: [2, 3, 4, 5, 12]\n",
        "Existem 5 clientes na fila 2.\n",
        "Fila 2 atual: [7, 8, 9, 10, 11]\n",
        "\n",
        "==> Operação: G\n",
        "\n",
        "Existem 5 clientes na fila 1.\n",
        "Fila 1 atual: [2, 3, 4, 5, 12]\n",
        "Existem 6 clientes na fila 2.\n",
        "Fila 2 atual: [7, 8, 9, 10, 11, 13]\n",
        "\n",
        "==> Operação: D\n",
        "Operação inválida! Digite apenas F, G, A, B ou S.\n",
        "\n",
        "Existem 5 clientes na fila 1.\n",
        "Fila 1 atual: [2, 3, 4, 5, 12]\n",
        "Existem 6 clientes na fila 2.\n",
        "Fila 2 atual: [7, 8, 9, 10, 11, 13]\n",
        "\n",
        "==> Operação: B\n",
        "Cliente 7 atendido.\n",
        "\n",
        "Existem 5 clientes na fila 1.\n",
        "Fila 1 atual: [2, 3, 4, 5, 12]\n",
        "Existem 5 clientes na fila 2.\n",
        "Fila 2 atual: [8, 9, 10, 11, 13]\n",
        "\n",
        "==> Operação: S\n",
        "\n",
        "Fim da simulação.\n",
        "```\n",
        "\n",
        "\n",
        "---\n",
        "\n"
      ]
    }
  ]
}